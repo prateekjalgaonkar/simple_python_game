{
 "cells": [
  {
   "cell_type": "markdown",
   "metadata": {},
   "source": [
    "### Simple User Interaction Game"
   ]
  },
  {
   "cell_type": "code",
   "execution_count": 17,
   "metadata": {},
   "outputs": [],
   "source": [
    "#display game list function\n",
    "\n",
    "def display_game(game_list):\n",
    "    print('Here is the current game list')\n",
    "    print(game_list)"
   ]
  },
  {
   "cell_type": "code",
   "execution_count": 18,
   "metadata": {},
   "outputs": [],
   "source": [
    "#position choice function\n",
    "\n",
    "def position_choice():\n",
    "    \n",
    "    choice= 'Wrong'\n",
    "    \n",
    "    while choice not in ['0','1','2']:\n",
    "        \n",
    "        choice= input('Pick a position [0,1,2]: ')\n",
    "        \n",
    "        if choice not in ['0','1','2']:\n",
    "            print('Sorry, Invalid choice!')\n",
    "    \n",
    "    return int(choice)     "
   ]
  },
  {
   "cell_type": "code",
   "execution_count": 19,
   "metadata": {},
   "outputs": [],
   "source": [
    "# replacement choice function\n",
    "\n",
    "def replacement_choice(game_list,choice):\n",
    "    \n",
    "    user_replacement = input('Enter string to replace: ')\n",
    "    game_list[choice] = user_replacement\n",
    "    \n",
    "    return game_list"
   ]
  },
  {
   "cell_type": "code",
   "execution_count": 20,
   "metadata": {},
   "outputs": [],
   "source": [
    "#keep playing option function\n",
    "\n",
    "def gameon_choice():\n",
    "    \n",
    "    choice= 'Wrong'\n",
    "    \n",
    "    while choice not in ['Y','N']:\n",
    "        \n",
    "        choice= input('Enter your choice [Y or N]: ')\n",
    "        \n",
    "        if choice not in ['Y','N']:\n",
    "            print('Sorry, Invalid choice!')\n",
    "    \n",
    "    if choice== 'Y':\n",
    "        return True\n",
    "    \n",
    "    else:\n",
    "        \n",
    "        print('Game Ended!')\n",
    "        return False\n",
    "        "
   ]
  },
  {
   "cell_type": "code",
   "execution_count": 21,
   "metadata": {},
   "outputs": [
    {
     "name": "stdout",
     "output_type": "stream",
     "text": [
      "Here is the current game list\n",
      "[0, 1, 2]\n",
      "Pick a position [0,1,2]: 1\n",
      "Enter string to replace: one\n",
      "Here is the current game list\n",
      "[0, 'one', 2]\n",
      "Enter your choice [Y or N]: Y\n",
      "Here is the current game list\n",
      "[0, 'one', 2]\n",
      "Pick a position [0,1,2]: zero\n",
      "Sorry, Invalid choice!\n",
      "Pick a position [0,1,2]: 0\n",
      "Enter string to replace: zero\n",
      "Here is the current game list\n",
      "['zero', 'one', 2]\n",
      "Enter your choice [Y or N]: Y\n",
      "Here is the current game list\n",
      "['zero', 'one', 2]\n",
      "Pick a position [0,1,2]: 2\n",
      "Enter string to replace: two\n",
      "Here is the current game list\n",
      "['zero', 'one', 'two']\n",
      "Enter your choice [Y or N]: N\n",
      "Game Ended!\n"
     ]
    }
   ],
   "source": [
    "# main function\n",
    "\n",
    "game_on= True\n",
    "game_list= [0,1,2]\n",
    "\n",
    "while game_on:\n",
    "    \n",
    "    display_game(game_list)\n",
    "    \n",
    "    position = position_choice()\n",
    "    \n",
    "    game_list = replacement_choice(game_list,position)\n",
    "    \n",
    "    display_game(game_list)\n",
    "    \n",
    "    game_on = gameon_choice()"
   ]
  }
 ],
 "metadata": {
  "kernelspec": {
   "display_name": "Python 3",
   "language": "python",
   "name": "python3"
  },
  "language_info": {
   "codemirror_mode": {
    "name": "ipython",
    "version": 3
   },
   "file_extension": ".py",
   "mimetype": "text/x-python",
   "name": "python",
   "nbconvert_exporter": "python",
   "pygments_lexer": "ipython3",
   "version": "3.8.5"
  }
 },
 "nbformat": 4,
 "nbformat_minor": 4
}
